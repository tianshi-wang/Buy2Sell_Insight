{
 "cells": [
  {
   "cell_type": "markdown",
   "metadata": {},
   "source": [
    "# Oil and Gas Visualization/Dashboard"
   ]
  },
  {
   "cell_type": "markdown",
   "metadata": {},
   "source": [
    "### Import required libraries"
   ]
  },
  {
   "cell_type": "code",
   "execution_count": 1,
   "metadata": {
    "inputHidden": false,
    "outputHidden": false
   },
   "outputs": [],
   "source": [
    "import numpy as np\n",
    "import pandas as pd\n",
    "import plotly.plotly as py\n",
    "import plotly.offline as pyo\n",
    "import cufflinks as cf"
   ]
  },
  {
   "cell_type": "markdown",
   "metadata": {},
   "source": [
    "### Import New York State dataset"
   ]
  },
  {
   "cell_type": "code",
   "execution_count": 2,
   "metadata": {
    "inputHidden": false,
    "outputHidden": false
   },
   "outputs": [
    {
     "data": {
      "text/plain": [
       "(41716, 52)"
      ]
     },
     "execution_count": 2,
     "metadata": {},
     "output_type": "execute_result"
    }
   ],
   "source": [
    "df = pd.read_csv('data/wellspublic.csv', low_memory=False)\n",
    "df.shape"
   ]
  },
  {
   "cell_type": "code",
   "execution_count": 3,
   "metadata": {
    "inputHidden": false,
    "outputHidden": false
   },
   "outputs": [
    {
     "data": {
      "text/plain": [
       "Index(['API_WellNo', 'Cnty', 'Hole', 'SideTrck', 'Completion', 'Well_Name',\n",
       "       'Company_name', 'Operator_number', 'Well_Type', 'Map_Symbol',\n",
       "       'Well_Status', 'Date_Status', 'Date_Permit_Application',\n",
       "       'Permit_Issued', 'Date_Spudded', 'Date_Total_Depth',\n",
       "       'Date_Well_Completed', 'Date_well_plugged', 'Date_well_confidential',\n",
       "       'confid', 'town', 'quad', 'quadsec', 'Producing_name',\n",
       "       'Producing_formation', 'Financial_security', 'Slant', 'County',\n",
       "       'Region', 'State_lease', 'Proposed_depth', 'Surface_location',\n",
       "       'Surface_Longitude', 'Surface_latitude', 'Bottom_hole_location',\n",
       "       'Bottom_hole_longitude', 'Bottom_hole_latitude', 'True_vertical_depth',\n",
       "       'Measured_depth', 'Kickoff', 'DrilledDepth', 'Elevation',\n",
       "       'Original_well_type', 'Permit_Fee', 'Objective_formation', 'Depth_Fee',\n",
       "       'Spacing', 'Spacing_Acres', 'Integration', 'Dt_Hearing', 'Dt_Mod',\n",
       "       'LINK'],\n",
       "      dtype='object')"
      ]
     },
     "execution_count": 3,
     "metadata": {},
     "output_type": "execute_result"
    }
   ],
   "source": [
    "df.columns"
   ]
  },
  {
   "cell_type": "markdown",
   "metadata": {},
   "source": [
    "### Make scattermapbox map"
   ]
  },
  {
   "cell_type": "code",
   "execution_count": 4,
   "metadata": {
    "inputHidden": false,
    "outputHidden": false
   },
   "outputs": [],
   "source": [
    "types = dict(\n",
    "    BR = 'Brine',\n",
    "    Confidential = 'Confidential',\n",
    "    DH = 'Dry Hole',\n",
    "    DS = 'Disposal',\n",
    "    DW = 'Dry Wildcat',\n",
    "    GD = 'Gas Development',\n",
    "    GE = 'Gas Extension',\n",
    "    GW = 'Gas Wildcat',\n",
    "    IG = 'Gas Injection Well',\n",
    "    IW = 'Enhanced Oil Recovery - Injection',\n",
    "    LP = 'Liquefied Petroleum Gas Storage',\n",
    "    MB = 'Monitoring Brine',\n",
    "    MM = 'Monitoring Miscellaneous',\n",
    "    MS = 'Monitoring Storage',\n",
    "    NL = 'Not Listed',\n",
    "    OB = 'Observation Well',\n",
    "    OD = 'Oil Development',\n",
    "    OE = 'Oil Extension',\n",
    "    OW = 'Oil Wildcat',\n",
    "    SG = 'Stratigraphic',\n",
    "    ST = 'Storage',\n",
    "    TH = 'Geothermal',\n",
    "    UN = 'Unknown',\n",
    ")\n",
    "\n",
    "traces = []\n",
    "for well, df in df.groupby('Well_Type'):\n",
    "    trace = dict(\n",
    "        type = 'scattermapbox',\n",
    "        lon = df['Surface_Longitude'],\n",
    "        lat = df['Surface_latitude'],\n",
    "        text = df['Well_Name'],\n",
    "        name = types[well],\n",
    "        marker = dict(\n",
    "            size = 4,\n",
    "            opacity = 0.6,\n",
    "        )\n",
    "    )\n",
    "    traces.append(trace)\n",
    "\n",
    "# trace = dict(\n",
    "#     type = 'scattermapbox',\n",
    "#     lon = df['Surface_Longitude'],\n",
    "#     lat = df['Surface_latitude'],\n",
    "#     name = df['Well_Name'],\n",
    "# )\n",
    "\n",
    "# traces = [trace]"
   ]
  },
  {
   "cell_type": "code",
   "execution_count": 25,
   "metadata": {},
   "outputs": [
    {
     "ename": "KeyError",
     "evalue": "'Column not found: 0'",
     "output_type": "error",
     "traceback": [
      "\u001b[0;31m---------------------------------------------------------------------------\u001b[0m",
      "\u001b[0;31mKeyError\u001b[0m                                  Traceback (most recent call last)",
      "\u001b[0;32m<ipython-input-25-6a4ab6f03173>\u001b[0m in \u001b[0;36m<module>\u001b[0;34m()\u001b[0m\n\u001b[1;32m      1\u001b[0m \u001b[0mdfserie\u001b[0m\u001b[0;34m=\u001b[0m\u001b[0mdf\u001b[0m\u001b[0;34m.\u001b[0m\u001b[0mgroupby\u001b[0m\u001b[0;34m(\u001b[0m\u001b[0;34m'Well_Type'\u001b[0m\u001b[0;34m)\u001b[0m\u001b[0;34m.\u001b[0m\u001b[0mdescribe\u001b[0m\u001b[0;34m(\u001b[0m\u001b[0;34m)\u001b[0m\u001b[0;34m\u001b[0m\u001b[0m\n\u001b[0;32m----> 2\u001b[0;31m \u001b[0mdf\u001b[0m\u001b[0;34m.\u001b[0m\u001b[0mgroupby\u001b[0m\u001b[0;34m(\u001b[0m\u001b[0;34m'Well_Type'\u001b[0m\u001b[0;34m)\u001b[0m\u001b[0;34m[\u001b[0m\u001b[0;36m0\u001b[0m\u001b[0;34m]\u001b[0m\u001b[0;34m\u001b[0m\u001b[0m\n\u001b[0m",
      "\u001b[0;32m~/anaconda3/envs/insight/lib/python3.6/site-packages/pandas/core/base.py\u001b[0m in \u001b[0;36m__getitem__\u001b[0;34m(self, key)\u001b[0m\n\u001b[1;32m    265\u001b[0m         \u001b[0;32melse\u001b[0m\u001b[0;34m:\u001b[0m\u001b[0;34m\u001b[0m\u001b[0m\n\u001b[1;32m    266\u001b[0m             \u001b[0;32mif\u001b[0m \u001b[0mkey\u001b[0m \u001b[0;32mnot\u001b[0m \u001b[0;32min\u001b[0m \u001b[0mself\u001b[0m\u001b[0;34m.\u001b[0m\u001b[0mobj\u001b[0m\u001b[0;34m:\u001b[0m\u001b[0;34m\u001b[0m\u001b[0m\n\u001b[0;32m--> 267\u001b[0;31m                 \u001b[0;32mraise\u001b[0m \u001b[0mKeyError\u001b[0m\u001b[0;34m(\u001b[0m\u001b[0;34m\"Column not found: {key}\"\u001b[0m\u001b[0;34m.\u001b[0m\u001b[0mformat\u001b[0m\u001b[0;34m(\u001b[0m\u001b[0mkey\u001b[0m\u001b[0;34m=\u001b[0m\u001b[0mkey\u001b[0m\u001b[0;34m)\u001b[0m\u001b[0;34m)\u001b[0m\u001b[0;34m\u001b[0m\u001b[0m\n\u001b[0m\u001b[1;32m    268\u001b[0m             \u001b[0;32mreturn\u001b[0m \u001b[0mself\u001b[0m\u001b[0;34m.\u001b[0m\u001b[0m_gotitem\u001b[0m\u001b[0;34m(\u001b[0m\u001b[0mkey\u001b[0m\u001b[0;34m,\u001b[0m \u001b[0mndim\u001b[0m\u001b[0;34m=\u001b[0m\u001b[0;36m1\u001b[0m\u001b[0;34m)\u001b[0m\u001b[0;34m\u001b[0m\u001b[0m\n\u001b[1;32m    269\u001b[0m \u001b[0;34m\u001b[0m\u001b[0m\n",
      "\u001b[0;31mKeyError\u001b[0m: 'Column not found: 0'"
     ]
    }
   ],
   "source": [
    "dfserie=df.groupby('Well_Type').describe()\n",
    "df.groupby('Well_Type')[0]\n"
   ]
  },
  {
   "cell_type": "code",
   "execution_count": 66,
   "metadata": {
    "inputHidden": false,
    "outputHidden": false
   },
   "outputs": [],
   "source": [
    "mapbox_access_token = 'pk.eyJ1IjoiamFja2x1byIsImEiOiJjaXhzYTB0bHcwOHNoMnFtOWZ3YWdreDB3In0.pjROwb9_CEuyKPE-x0lRUw'\n",
    "\n",
    "layout = dict(\n",
    "\n",
    "    title = \"New York Oil and Gas map\",\n",
    "\n",
    "    # GENERAL LAYOUT\n",
    "    width = 1280,\n",
    "    height = 720,\n",
    "    autosize = True,\n",
    "    font = dict(\n",
    "        family = \"Overpass\",\n",
    "        size = 12,\n",
    "        color = '#CCCCCC',\n",
    "    ),\n",
    "    margin = dict(\n",
    "        t = 80,\n",
    "        l = 40,\n",
    "        b = 40,\n",
    "        r = 120,\n",
    "        pad = 0, \n",
    "    ),\n",
    "\n",
    "    # OPTIONAL\n",
    "    hovermode = \"closest\",\n",
    "    \n",
    "    # COLOR THEME\n",
    "    plot_bgcolor = \"#191A1A\",\n",
    "    paper_bgcolor = \"#020202\",\n",
    "    \n",
    "    # LEGEND\n",
    "    legend = dict(\n",
    "        x = 1.02,\n",
    "        y = 1,\n",
    "        font = dict(size = 10),\n",
    "    ),\n",
    "\n",
    "    # MAPBOX\n",
    "    mapbox = dict(\n",
    "        accesstoken = mapbox_access_token,\n",
    "        style = \"dark\",\n",
    "        center = dict(\n",
    "            lon = -76.40,\n",
    "            lat = 42.70,\n",
    "        ),\n",
    "        zoom = 5.5,\n",
    "    ),\n",
    "\n",
    ")"
   ]
  },
  {
   "cell_type": "code",
   "execution_count": 10,
   "metadata": {},
   "outputs": [
    {
     "data": {
      "text/plain": [
       "pandas.core.series.Series"
      ]
     },
     "execution_count": 10,
     "metadata": {},
     "output_type": "execute_result"
    }
   ],
   "source": [
    "type(traces[0]['lon'])"
   ]
  },
  {
   "cell_type": "code",
   "execution_count": 68,
   "metadata": {
    "inputHidden": false,
    "outputHidden": false
   },
   "outputs": [
    {
     "data": {
      "text/plain": [
       "'https://plot.ly/~jackluo/3594'"
      ]
     },
     "execution_count": 68,
     "metadata": {},
     "output_type": "execute_result"
    }
   ],
   "source": [
    "figure = dict(data=traces, layout=layout)\n",
    "py.plot(figure, filename='Oil map')"
   ]
  }
 ],
 "metadata": {
  "kernel_info": {
   "name": "python3"
  },
  "kernelspec": {
   "display_name": "Python 3",
   "language": "python",
   "name": "python3"
  },
  "language_info": {
   "codemirror_mode": {
    "name": "ipython",
    "version": 3
   },
   "file_extension": ".py",
   "mimetype": "text/x-python",
   "name": "python",
   "nbconvert_exporter": "python",
   "pygments_lexer": "ipython3",
   "version": "3.6.6"
  }
 },
 "nbformat": 4,
 "nbformat_minor": 4
}
